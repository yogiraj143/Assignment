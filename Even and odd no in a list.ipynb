{
 "cells": [
  {
   "cell_type": "code",
   "execution_count": 3,
   "id": "c96d6d93",
   "metadata": {},
   "outputs": [
    {
     "name": "stdout",
     "output_type": "stream",
     "text": [
      "Number of even num : 0\n",
      "Number of odd num : 1\n",
      "Number of even num : 1\n",
      "Number of odd num : 2\n",
      "Number of even num : 2\n",
      "Number of odd num : 3\n",
      "Number of even num : 3\n",
      "Number of odd num : 4\n",
      "Number of even num : 4\n",
      "Number of odd num : 5\n",
      "Number of even num : 5\n",
      "Number of odd num : 6\n",
      "Number of even num : 6\n",
      "Number of odd num : 7\n",
      "Number of even num : 7\n",
      "Number of odd num : 8\n",
      "Number of even num : 8\n",
      "Number of odd num : 9\n",
      "Number of even num : 9\n",
      "Number of odd num : 10\n",
      "Number of even num : 10\n",
      "Number of odd num : 11\n",
      "Number of even num : 11\n",
      "Number of odd num : 12\n",
      "Number of even num : 12\n",
      "Number of odd num : 13\n"
     ]
    }
   ],
   "source": [
    "num=(1,2,3,4,5,6,7,8,9,10,11,12,13,14,15,16,17,18,19,20,21,22,23,24,25)\n",
    "count_odd = 0\n",
    "count_even = 0\n",
    "for x in num:\n",
    "    if not x % 2:\n",
    "        count_even+=1\n",
    "    else:\n",
    "        count_odd+=1\n",
    "        print(\"Number of even num :\",count_even)\n",
    "        print(\"Number of odd num :\",count_odd)"
   ]
  },
  {
   "cell_type": "code",
   "execution_count": null,
   "id": "1201633c",
   "metadata": {},
   "outputs": [],
   "source": []
  },
  {
   "cell_type": "code",
   "execution_count": null,
   "id": "2052a7fa",
   "metadata": {},
   "outputs": [],
   "source": []
  }
 ],
 "metadata": {
  "kernelspec": {
   "display_name": "Python 3 (ipykernel)",
   "language": "python",
   "name": "python3"
  },
  "language_info": {
   "codemirror_mode": {
    "name": "ipython",
    "version": 3
   },
   "file_extension": ".py",
   "mimetype": "text/x-python",
   "name": "python",
   "nbconvert_exporter": "python",
   "pygments_lexer": "ipython3",
   "version": "3.9.7"
  }
 },
 "nbformat": 4,
 "nbformat_minor": 5
}
